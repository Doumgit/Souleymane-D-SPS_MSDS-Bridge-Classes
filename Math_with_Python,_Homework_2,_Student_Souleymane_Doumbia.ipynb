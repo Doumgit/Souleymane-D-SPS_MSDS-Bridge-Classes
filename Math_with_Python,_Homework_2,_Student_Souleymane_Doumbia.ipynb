{
  "nbformat": 4,
  "nbformat_minor": 0,
  "metadata": {
    "colab": {
      "name": "Math with Python, Homework 2, Student: Souleymane Doumbia",
      "provenance": [],
      "collapsed_sections": [],
      "authorship_tag": "ABX9TyOxSh90rZZsuDvl2dokEhtl",
      "include_colab_link": true
    },
    "kernelspec": {
      "name": "python3",
      "display_name": "Python 3"
    },
    "language_info": {
      "name": "python"
    }
  },
  "cells": [
    {
      "cell_type": "markdown",
      "metadata": {
        "id": "view-in-github",
        "colab_type": "text"
      },
      "source": [
        "<a href=\"https://colab.research.google.com/github/Doumgit/Souleymane-D-SQL-Week-1/blob/main/Math_with_Python%2C_Homework_2%2C_Student_Souleymane_Doumbia.ipynb\" target=\"_parent\"><img src=\"https://colab.research.google.com/assets/colab-badge.svg\" alt=\"Open In Colab\"/></a>"
      ]
    },
    {
      "cell_type": "markdown",
      "source": [
        "### **MATH** **WITH** **PYTHON**, **WEEK** **2**"
      ],
      "metadata": {
        "id": "8k6OtmVLeYsy"
      }
    },
    {
      "cell_type": "markdown",
      "source": [
        "SOULEYMANE DOUMBIA"
      ],
      "metadata": {
        "id": "JpFsrmx6eKtR"
      }
    },
    {
      "cell_type": "markdown",
      "source": [
        "**QUESTION 1:** Computing the eigenvalues and right eigenvectors of a given square array."
      ],
      "metadata": {
        "id": "9IlTf1MPpXB0"
      }
    },
    {
      "cell_type": "markdown",
      "source": [
        "**First Option: To find eigevalues and eigenvectors of square matrix**"
      ],
      "metadata": {
        "id": "gttVD-mmdZLG"
      }
    },
    {
      "cell_type": "code",
      "source": [
        "# To compute  eigenvalues, you have to compute (A - lam@I)X = O which gives det(A - lam@I) = 0;\n",
        "# by solving det(A - lam*I) = 0, we will get values of lam.\n",
        "# To compute eigenvectors X, we use eigenvalues (lam) above; how? We know A@X = lam@X.\n",
        "# 1st option: Then, we do raw echelon of ([A-lam]) and ([zeros matrix]);\n",
        "# 2nd option: Then, we solve for [A - lam*I]@X = O which will gives X directly. \n",
        "\n",
        "from sympy import Symbol, solve, Matrix, eye, symbols\n",
        "import numpy as np, numpy as geek\n",
        "import scipy, scipy.linalg\n",
        "from numpy import array\n",
        "\n",
        "def get_eigenvalues ( in_arr ):\n",
        "  '''\n",
        "  Solve for Eigenvalues of any NxM matrix.\n",
        "  '''\n",
        "\n",
        "  # create matrix, A\n",
        "  A = Matrix(in_arr)\n",
        "\n",
        "  # create same size identity matrix, I\n",
        "  I = eye( len (in_arr[ 0 ]))\n",
        "\n",
        "  # put lambda on diagonal of identity matrix, LI\n",
        "  L = Symbol( 'lambda' )\n",
        "  LI = L * I\n",
        "  \n",
        "  A_LI = A - LI\n",
        "\n",
        "  # compute |A - LI|\n",
        "  det_A_LI = A_LI.det()\n",
        "  \n",
        "\n",
        "  # solve for |A - LI| = 0\n",
        "  soln = solve(det_A_LI)\n",
        "\n",
        "  return soln\n",
        "\n",
        "try:\n",
        "  numR = int(input(\"How many rows (ONLY ONE NUMBER):\"))\n",
        "  numC = int(input(\"How many columns (ONLY ONE NUMBER):\"))\n",
        "  numT = numR*numC\n",
        "  \n",
        "  if (numC == numR):\n",
        "    print(\"Enter {0} entries in a single line (separated by space): \".format(numT))\n",
        "    entries = list(map(int, input().split()))\n",
        "    \n",
        "    if (len(entries) == numT):\n",
        "      matrix = np.array(entries).reshape(numR, numC)\n",
        "      M = matrix\n",
        "      print(' ')\n",
        "      print('M =',M)\n",
        "      print(' ')\n",
        "\n",
        "      Eigenvalues_are = get_eigenvalues(M)\n",
        "      print('eigenvalues are :',Eigenvalues_are) \n",
        "\n",
        "      # Finding Eigenvectors: M@X = Lambda@X ---> (M-Lambda)@X = b, with b = [0,0,0,...]\n",
        "\n",
        "      Eigenvalues_are = np.array(Eigenvalues_are)\n",
        "      d = np.identity(len(M),int)\n",
        "      b = list(geek.zeros([len(M)], int))\n",
        "      for i in Eigenvalues_are:\n",
        "        c = np.array((i*d),int)\n",
        "        exp = np.array((M - c),int)\n",
        "        eig_V = np.linalg.inv(exp).dot(b)\n",
        "        print(' ')\n",
        "        print('For eigenvalue = {0} , eigenvector is {1}'.format(i, eig_V))\n",
        "\n",
        "    else:\n",
        "      print('Enter {0} entries separated by a space'.format(numR*numC))\n",
        "\n",
        "  else:\n",
        "    print(\"Enter an identical integer value\")\n",
        "    \n",
        "except ValueError:\n",
        "  print(\"ENTER A NUMBER\")\n",
        "\n",
        "\n",
        "# THIS OPTION GIVES ME MY EIGENVALUES OF ANY GIVEN SQUARE MATRIX\n",
        "# BUT, IT DOES NOT GIVE ME A NON-ZERO EIGEINVECTORS UNLESS I CHANGE  b_entries > 0.\n"
      ],
      "metadata": {
        "colab": {
          "base_uri": "https://localhost:8080/"
        },
        "id": "Wr8bVm2aern9",
        "outputId": "3fb0dbeb-91c1-4830-cf49-eb2334f23b23"
      },
      "execution_count": null,
      "outputs": [
        {
          "output_type": "stream",
          "name": "stdout",
          "text": [
            "How many rows (ONLY ONE NUMBER):2\n",
            "How many columns (ONLY ONE NUMBER):2\n",
            "Enter 4 entries in a single line (separated by space): \n",
            "1 2 3 4\n",
            " \n",
            "M = [[1 2]\n",
            " [3 4]]\n",
            " \n",
            "eigenvalues are : [5/2 - sqrt(33)/2, 5/2 + sqrt(33)/2]\n",
            " \n",
            "For eigenvalue = 5/2 - sqrt(33)/2 , eigenvector is [0. 0.]\n",
            " \n",
            "For eigenvalue = 5/2 + sqrt(33)/2 , eigenvector is [0. 0.]\n"
          ]
        }
      ]
    },
    {
      "cell_type": "markdown",
      "source": [
        "**Second Option: To find eigevalues and eigenvectors of square matrix**"
      ],
      "metadata": {
        "id": "GqT6tdJndtSt"
      }
    },
    {
      "cell_type": "code",
      "source": [
        "import numpy as np\n",
        "from numpy.linalg import eig\n",
        "  \n",
        "try:\n",
        "  numR = int(input(\"How many rows (ONLY ONE NUMBER):\"))\n",
        "  numC = int(input(\"How many columns (ONLY ONE NUMBER):\"))\n",
        "  numT = numR*numC\n",
        "  \n",
        "  if (numC == numR):\n",
        "    print(\"Enter {0} entries in a single line (separated by space): \".format(numT))\n",
        "    entries = list(map(int, input().split()))\n",
        "    \n",
        "    if (len(entries) == numT):\n",
        "      matrix = np.array(entries).reshape(numR, numC)\n",
        "      M = matrix\n",
        "      print(' ')\n",
        "      print('M =',M)\n",
        "      print(' ')\n",
        "\n",
        "      eigenvalues, eigenvectors = eig(M)\n",
        "      print('eigenvalues = ',list(eigenvalues))\n",
        "      print(' ')\n",
        "      for i in range(len(eigenvalues)):\n",
        "        print('For eigenvalue = {0}, eigenvector is {1}'.format(eigenvalues[i], eigenvectors[i,]))\n",
        "        print(' ')\n",
        "\n",
        "    else:\n",
        "      print('Enter {0} entries separated by a space'.format(numR*numC))\n",
        "\n",
        "  else:\n",
        "    print(\"Enter an identical integer value\")\n",
        "\n",
        "except ValueError:\n",
        "  print(\"ENTER A NUMBER\")\n",
        "\n",
        "# THIS OPTION GIVES ME MY EIGENVALUES OF ANY GIVEN SQUARE MATRIX\n",
        "# IT ALSO DOES GIVE ME EIGEINVECTORS.\n",
        "# THIS METHOD IS MY BEST METHOD"
      ],
      "metadata": {
        "colab": {
          "base_uri": "https://localhost:8080/"
        },
        "id": "7DUD8sHgpwyk",
        "outputId": "2366f043-fb33-4108-a228-df9b033ba920"
      },
      "execution_count": null,
      "outputs": [
        {
          "output_type": "stream",
          "name": "stdout",
          "text": [
            "How many rows (ONLY ONE NUMBER):2\n",
            "How many columns (ONLY ONE NUMBER):2\n",
            "Enter 4 entries in a single line (separated by space): \n",
            "1 2 3 4\n",
            " \n",
            "M = [[1 2]\n",
            " [3 4]]\n",
            " \n",
            "eigenvalues =  [-0.3722813232690143, 5.372281323269014]\n",
            " \n",
            "For eigenvalue = -0.3722813232690143, eigenvector is [-0.82456484 -0.41597356]\n",
            " \n",
            "For eigenvalue = 5.372281323269014, eigenvector is [ 0.56576746 -0.90937671]\n",
            " \n"
          ]
        }
      ]
    },
    {
      "cell_type": "markdown",
      "source": [
        "**QUESTION 2:** Computing the factor of a given array by Singular Value Decomposition"
      ],
      "metadata": {
        "id": "Uv0WnboZVtPJ"
      }
    },
    {
      "cell_type": "code",
      "source": [
        "import numpy as np\n",
        "from numpy import array\n",
        "from scipy.linalg import svd\n",
        "\n",
        "# Defining singular-value decomposition function\n",
        "def SVD_factor(A):\n",
        "  print('Array A is:',A)\n",
        "  print('')\n",
        "  U, s, V = svd(A)\n",
        "  print('Factors of array A by Singular Value Decomposition are: ')\n",
        "  print('')\n",
        "  print('U = ',U)\n",
        "  print('')\n",
        "  print('s = ',s)\n",
        "  print('')\n",
        "  print('V = ',V)\n",
        "\n",
        "# Getting the array input from user (Matrix to factorise by SVD)\n",
        "try:\n",
        "  numR = int(input(\"How many rows:\"))\n",
        "  numC = int(input(\"How many columns:\"))\n",
        "  numT = numR * numC\n",
        "  \n",
        "  print(\"Enter {0} entries in a single line (SEPARATED BY SPACE): \".format(numT))\n",
        "  entries = list(map(int, input().split()))\n",
        "  print('')\n",
        "  \n",
        "  if len(entries) == numT:\n",
        "    matrix = np.array(entries).reshape(numR, numC)\n",
        "    M = matrix\n",
        "    #print('M =',M)\n",
        "    SVD_factor(M)\n",
        "  else:\n",
        "    print('Total entry should be {0}'.format(numT))\n",
        "\n",
        "except ValueError:\n",
        "  print(\"ENTER INTEGER VALUE ONLY\")\n"
      ],
      "metadata": {
        "colab": {
          "base_uri": "https://localhost:8080/"
        },
        "id": "lWM23fFcV4kb",
        "outputId": "9598505c-7319-4746-8ef4-07195a01204b"
      },
      "execution_count": null,
      "outputs": [
        {
          "output_type": "stream",
          "name": "stdout",
          "text": [
            "How many rows:2\n",
            "How many columns:3\n",
            "Enter 6 entries in a single line (SEPARATED BY SPACE): \n",
            "1 2 3 4 5 6\n",
            "\n",
            "Array A is: [[1 2 3]\n",
            " [4 5 6]]\n",
            "\n",
            "Factors of array A by Singular Value Decomposition are: \n",
            "\n",
            "U =  [[-0.3863177  -0.92236578]\n",
            " [-0.92236578  0.3863177 ]]\n",
            "\n",
            "s =  [9.508032   0.77286964]\n",
            "\n",
            "V =  [[-0.42866713 -0.56630692 -0.7039467 ]\n",
            " [ 0.80596391  0.11238241 -0.58119908]\n",
            " [ 0.40824829 -0.81649658  0.40824829]]\n"
          ]
        }
      ]
    },
    {
      "cell_type": "markdown",
      "source": [
        "\n",
        "\n",
        "\n",
        "**QUESTION 3:** Computing the determinant of a given array."
      ],
      "metadata": {
        "id": "U1p9ULH3S_mx"
      }
    },
    {
      "cell_type": "markdown",
      "source": [
        "In Question 1 above, we were able to compute eigenvalues of \n",
        "a given square array in two ways. Since, the product of all eigenvalues of\n",
        "a square matrix is the determinant of that matrix, therefore, we can use the codes above to compute determinant of a given array. \n",
        "We will apply here those two methods to find determinant of a given array:"
      ],
      "metadata": {
        "id": "d392h-X71c_R"
      }
    },
    {
      "cell_type": "markdown",
      "source": [
        "First option:"
      ],
      "metadata": {
        "id": "H1lorp1FdGvK"
      }
    },
    {
      "cell_type": "code",
      "source": [
        "from sympy import Symbol, solve, Matrix, eye, symbols\n",
        "import numpy as np, numpy as geek\n",
        "import scipy, scipy.linalg\n",
        "from numpy import array\n",
        "\n",
        "def get_eigenvalues ( in_arr ):\n",
        "  A = Matrix(in_arr)\n",
        "  I = eye( len (in_arr[ 0 ]))\n",
        "  L = Symbol( 'lambda' )\n",
        "  LI = L * I\n",
        "  A_LI = A - LI\n",
        "  det_A_LI = A_LI.det()\n",
        "  soln = solve(det_A_LI)\n",
        "  return soln\n",
        "\n",
        "try:\n",
        "  numR = int(input(\"How many rows (ONLY ONE NUMBER):\"))\n",
        "  numC = int(input(\"How many columns (ONLY ONE NUMBER):\"))\n",
        "  numT = numR*numC\n",
        "  \n",
        "  if (numC == numR):\n",
        "    print(\"Enter {0} entries in a single line (separated by space): \".format(numT))\n",
        "    entries = list(map(int, input().split()))\n",
        "    print(' ')\n",
        "    \n",
        "    if (len(entries) == numT):\n",
        "      matrix = np.array(entries).reshape(numR, numC)\n",
        "      M = matrix\n",
        "      #print('M =',M)\n",
        "\n",
        "      eigenvalues = get_eigenvalues((M))\n",
        "      print('Eigenvalues of array M: ',list(eigenvalues))\n",
        "      print(' ')\n",
        "       \n",
        "    else:\n",
        "      print('Enter {0} entries separated by a space'.format(numR*numC))\n",
        "\n",
        "  else:\n",
        "    print(\"Enter an identical integer value\")\n",
        "except ValueError:\n",
        "  print(\"ENTER A NUMBER\")\n",
        "\n",
        "num = 1\n",
        "for i in range(len(eigenvalues)):\n",
        "  num *= eigenvalues[i]\n",
        "\n",
        "print('Therefore determinant of Array M is: {0}'.format(num))"
      ],
      "metadata": {
        "colab": {
          "base_uri": "https://localhost:8080/",
          "height": 0
        },
        "id": "YaUGHMb3z5Uf",
        "outputId": "b542d696-ce14-4c68-bcfe-c54ddf8bf05a"
      },
      "execution_count": 60,
      "outputs": [
        {
          "output_type": "stream",
          "name": "stdout",
          "text": [
            "How many rows (ONLY ONE NUMBER):2\n",
            "How many columns (ONLY ONE NUMBER):2\n",
            "Enter 4 entries in a single line (separated by space): \n",
            "1 2 3 4\n",
            " \n",
            "Eigenvalues of array M:  [5/2 - sqrt(33)/2, 5/2 + sqrt(33)/2]\n",
            " \n",
            "Therefore determinant of Array M is: (5/2 - sqrt(33)/2)*(5/2 + sqrt(33)/2)\n"
          ]
        }
      ]
    },
    {
      "cell_type": "markdown",
      "source": [
        "Second option:"
      ],
      "metadata": {
        "id": "y9jiACLHddhV"
      }
    },
    {
      "cell_type": "code",
      "source": [
        "import numpy as np\n",
        "from numpy.linalg import eig\n",
        "  \n",
        "try:\n",
        "  numR = int(input(\"How many rows (ONLY ONE NUMBER):\"))\n",
        "  numC = int(input(\"How many columns (ONLY ONE NUMBER):\"))\n",
        "  numT = numR*numC\n",
        "  \n",
        "  if (numC == numR):\n",
        "    print(\"Enter {0} entries in a single line (separated by space): \".format(numT))\n",
        "    entries = list(map(int, input().split()))\n",
        "    print(' ')\n",
        "    \n",
        "    if (len(entries) == numT):\n",
        "      matrix = np.array(entries).reshape(numR, numC)\n",
        "      M = matrix\n",
        "      #print('M =',M)\n",
        "\n",
        "      eigenvalues, eigenvectors = eig(M)\n",
        "      print('Eigenvalues of array M: ',list(eigenvalues))\n",
        "      print(' ')\n",
        "       \n",
        "    else:\n",
        "      print('Enter {0} entries separated by a space'.format(numR*numC))\n",
        "\n",
        "  else:\n",
        "    print(\"Enter an identical integer value\")\n",
        "except ValueError:\n",
        "  print(\"ENTER A NUMBER\")\n",
        "\n",
        "num = 1\n",
        "for i in range(len(eigenvalues)):\n",
        "  num *= eigenvalues[i]\n",
        "\n",
        "print('Therefore determinant of Array M is: {0}'.format(round(num,2)))\n",
        "\n"
      ],
      "metadata": {
        "colab": {
          "base_uri": "https://localhost:8080/"
        },
        "id": "O5rgOqJPfN-B",
        "outputId": "d91b6e99-ce64-43c0-a5e0-e4cff6452feb"
      },
      "execution_count": null,
      "outputs": [
        {
          "output_type": "stream",
          "name": "stdout",
          "text": [
            "How many rows (ONLY ONE NUMBER):2\n",
            "How many columns (ONLY ONE NUMBER):2\n",
            "Enter 4 entries in a single line (separated by space): \n",
            "1 2 3 4\n",
            " \n",
            "Eigenvalues of array M:  [-0.3722813232690143, 5.372281323269014]\n",
            " \n",
            "Therefore determinant of Array M is: -2.0\n"
          ]
        }
      ]
    }
  ]
}