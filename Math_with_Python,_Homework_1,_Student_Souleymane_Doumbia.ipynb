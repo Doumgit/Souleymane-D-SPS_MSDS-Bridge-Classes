{
  "nbformat": 4,
  "nbformat_minor": 0,
  "metadata": {
    "colab": {
      "name": "Math with Python, Homework 1, Student: Souleymane Doumbia",
      "provenance": [],
      "collapsed_sections": [],
      "toc_visible": true,
      "authorship_tag": "ABX9TyMdTv0tmKiEf8unFqrJM9tM",
      "include_colab_link": true
    },
    "kernelspec": {
      "name": "python3",
      "display_name": "Python 3"
    },
    "language_info": {
      "name": "python"
    }
  },
  "cells": [
    {
      "cell_type": "markdown",
      "metadata": {
        "id": "view-in-github",
        "colab_type": "text"
      },
      "source": [
        "<a href=\"https://colab.research.google.com/github/Doumgit/Souleymane-D-SQL-Week-1/blob/main/Math_with_Python%2C_Homework_1%2C_Student_Souleymane_Doumbia.ipynb\" target=\"_parent\"><img src=\"https://colab.research.google.com/assets/colab-badge.svg\" alt=\"Open In Colab\"/></a>"
      ]
    },
    {
      "cell_type": "markdown",
      "source": [
        "# **MATH** **WITH** **PYTHON**, **WEEK** **1**\n",
        "\n",
        "**SOULEYMANE** **DOUMBIA**\n"
      ],
      "metadata": {
        "id": "YNuHk218iqNr"
      }
    },
    {
      "cell_type": "markdown",
      "source": [
        "Question 1"
      ],
      "metadata": {
        "id": "zdKOHWTI961h"
      }
    },
    {
      "cell_type": "code",
      "source": [
        "# Question 1\n",
        "from numpy import zeros\n",
        "\n",
        "try:\n",
        "  a = float(input('Enter a value: '))\n",
        "  t = list(zeros(10)) \n",
        "  t[0] = int(a)\n",
        "\n",
        "  if a.is_integer():\n",
        "    if (a % 2) == 0:\n",
        "      print('even')\n",
        "    \n",
        "      for i in range(9):\n",
        "        t[i+1] = t[i] + 2\n",
        "      print(t)\n",
        "\n",
        "    else:\n",
        "      print('odd')\n",
        "  \n",
        "      for i in range(9):\n",
        "       t[i+1] = t[i] + 2\n",
        "      print(t)\n",
        "\n",
        "  else:\n",
        "    print('Enter an integer')\n",
        "\n",
        "except ValueError:\n",
        "  print('Please enter a correct value')"
      ],
      "metadata": {
        "colab": {
          "base_uri": "https://localhost:8080/"
        },
        "id": "ph_FKhRF9_OX",
        "outputId": "39348cc7-c2ee-4c5a-9cb8-e7ff04fe0f69"
      },
      "execution_count": null,
      "outputs": [
        {
          "output_type": "stream",
          "name": "stdout",
          "text": [
            "Enter a value: 1\n",
            "odd\n",
            "[1, 3, 5, 7, 9, 11, 13, 15, 17, 19]\n"
          ]
        }
      ]
    },
    {
      "cell_type": "markdown",
      "source": [
        "Qestion 2"
      ],
      "metadata": {
        "id": "lrUxbwyP-GvX"
      }
    },
    {
      "cell_type": "code",
      "source": [
        "import matplotlib.pyplot as plt\n",
        "x_values = [-13,-12,-11,-10,-9,-8,-7,-6,-5,-4,-3\n",
        "           ,-2,-1,0,1,2,3,4,5,6,7,8,9,10,11] \n",
        "y = []\n",
        "for x in x_values:\n",
        "  t = x**2 + 2*x + 1\n",
        "  print('x={0} t={1}'.format(x,t))\n",
        "  y.append(t)\n",
        "print('y:',y)\n",
        "plt.plot(x_values,y)\n",
        "plt.xlabel('x_values')\n",
        "plt.ylabel('y')\n",
        "# After ploting function y and analysing the graph,\n",
        "# we can see easily that the variation is nonlinear."
      ],
      "metadata": {
        "colab": {
          "base_uri": "https://localhost:8080/",
          "height": 762
        },
        "id": "ByzMoo9GtPTE",
        "outputId": "6f0362c4-7ab0-4e21-a4ff-cc862fb9e1af"
      },
      "execution_count": null,
      "outputs": [
        {
          "output_type": "stream",
          "name": "stdout",
          "text": [
            "x=-13 t=144\n",
            "x=-12 t=121\n",
            "x=-11 t=100\n",
            "x=-10 t=81\n",
            "x=-9 t=64\n",
            "x=-8 t=49\n",
            "x=-7 t=36\n",
            "x=-6 t=25\n",
            "x=-5 t=16\n",
            "x=-4 t=9\n",
            "x=-3 t=4\n",
            "x=-2 t=1\n",
            "x=-1 t=0\n",
            "x=0 t=1\n",
            "x=1 t=4\n",
            "x=2 t=9\n",
            "x=3 t=16\n",
            "x=4 t=25\n",
            "x=5 t=36\n",
            "x=6 t=49\n",
            "x=7 t=64\n",
            "x=8 t=81\n",
            "x=9 t=100\n",
            "x=10 t=121\n",
            "x=11 t=144\n",
            "y: [144, 121, 100, 81, 64, 49, 36, 25, 16, 9, 4, 1, 0, 1, 4, 9, 16, 25, 36, 49, 64, 81, 100, 121, 144]\n"
          ]
        },
        {
          "output_type": "execute_result",
          "data": {
            "text/plain": [
              "Text(0, 0.5, 'y')"
            ]
          },
          "metadata": {},
          "execution_count": 141
        },
        {
          "output_type": "display_data",
          "data": {
            "text/plain": [
              "<Figure size 432x288 with 1 Axes>"
            ],
            "image/png": "[encoded data removed]"
          },
          "metadata": {
            "needs_background": "light"
          }
        }
      ]
    },
    {
      "cell_type": "markdown",
      "source": [
        "Question 3"
      ],
      "metadata": {
        "id": "PJQFtRT2IOa0"
      }
    },
    {
      "cell_type": "code",
      "source": [
        "from numpy import loadtxt\n",
        "from collections import Counter\n",
        "\n",
        "# Importing file from mydata.txt\n",
        "def IMPORT_FILE(filename):\n",
        "  \n",
        "  # Transforming the file content to an array\n",
        "  file_content = loadtxt(filename, float)\n",
        "  \n",
        "  return file_content\n",
        "  \n",
        "    \n",
        "def MEAN(r):\n",
        "  s = sum(r)\n",
        "  N = len(r)\n",
        "  mean = s/N\n",
        "  return mean\n",
        "\n",
        "\n",
        "def MEDIAN(r):\n",
        "  N = len(r)\n",
        "  r.sort() # put number in increasing order\n",
        "  if N % 2 == 0:\n",
        "      m1 = N/2\n",
        "      m2 = (N/2) + 1\n",
        "      m1 = int(m1) - 1\n",
        "      m2 = int(m2) - 1\n",
        "      median = (r[m1] + r[m2])/2\n",
        "  else:\n",
        "      m = (N+1)/2\n",
        "      m = int(m) - 1\n",
        "      median = r[m]\n",
        "  print('Median of the Data: {0}'.format(median))\n",
        "\n",
        "\n",
        "def MODE(r):\n",
        "    c = Counter(r)\n",
        "    r_freq = c.most_common()\n",
        "    max_count = r_freq[0][1]\n",
        "    mode = []\n",
        "    for i in r_freq:\n",
        "        if i[1] == max_count:\n",
        "            mode.append(i[0])\n",
        "    if len(mode) == 1:\n",
        "      print('Mode of the Data: {0}'.format(mode))\n",
        "    else:\n",
        "      print('Modes of the Data: {0}'.format(mode))\n",
        "    \n",
        "\n",
        "def VARIANCE(r):\n",
        "       # Find the list of differences\n",
        "       mean = MEAN(r)\n",
        "       d = []\n",
        "       for j in r:\n",
        "         d.append((j - mean)**2)\n",
        "       variance = sum(d)/len(r) \n",
        "       return(variance)\n",
        "\n",
        "Data = IMPORT_FILE('mydata.txt') \n",
        "\n",
        "print('Mean of the Data: {0}'.format(MEAN(Data)))\n",
        "MEDIAN(Data)\n",
        "MODE(Data)\n",
        "print('Variance of the Data: {0}'.format(VARIANCE(Data)))\n",
        "print('Standard deviation of the Data: {0}'.format((VARIANCE(Data))**(0.5)))"
      ],
      "metadata": {
        "colab": {
          "base_uri": "https://localhost:8080/"
        },
        "id": "5Uw3c5ehISCQ",
        "outputId": "5f4ca719-1471-4e8c-cdc9-7e26d0f1ab6a"
      },
      "execution_count": null,
      "outputs": [
        {
          "output_type": "stream",
          "name": "stdout",
          "text": [
            "Mean of the Data: 477.75\n",
            "Median of the Data: 500.0\n",
            "Modes of the Data: [100.0, 500.0]\n",
            "Variance of the Data: 141047.35416666666\n",
            "Standard deviation of the Data: 375.5627166887931\n"
          ]
        }
      ]
    },
    {
      "cell_type": "markdown",
      "source": [
        "Question 4"
      ],
      "metadata": {
        "id": "1iikHbYz7ona"
      }
    },
    {
      "cell_type": "code",
      "source": [
        "from sympy import Poly, Symbol, solve_poly_inequality, solve_rational_inequalities, solve, solve_univariate_inequality, sin, sympify\n",
        "\n",
        "def Isolve_Poly_Ineq(I):\n",
        "  x = Symbol('x')\n",
        "  ineq_obj = I \n",
        "  lhs = ineq_obj.lhs \n",
        "  p = Poly(lhs, x)\n",
        "  rel = ineq_obj.rel_op\n",
        "  print(solve_poly_inequality(p, rel))\n",
        "\n",
        "\n",
        "def Isolve_Ration_Ineq(I):\n",
        "  x = Symbol('x')\n",
        "  ineq_obj = I\n",
        "  lhs = ineq_obj.lhs\n",
        "  numer, denom = lhs.as_numer_denom()\n",
        "  p1 = Poly(numer)\n",
        "  p2 = Poly(denom)\n",
        "  rel = ineq_obj.rel_op\n",
        "  print(solve_rational_inequalities([[((p1, p2), rel)]]))\n",
        "\n",
        "\n",
        "def Isolve_Univ_Ineq(I):\n",
        "  x = Symbol('x')\n",
        "  ineq_obj = I\n",
        "  print(solve_univariate_inequality(ineq_obj, x, relational=False))\n",
        "\n",
        "\n",
        "def Isolve(I):\n",
        "  Ineq = I.lhs\n",
        "  if Ineq.is_polynomial():\n",
        "    return Isolve_Poly_Ineq(I)\n",
        "  elif Ineq.is_rational_function():\n",
        "    return Isolve_Ration_Ineq(I)\n",
        "  else:\n",
        "    return Isolve_Univ_Ineq(I)\n",
        "\n",
        "Inequality = input('Enter an Inequality: ')  \n",
        "try:\n",
        "  Inequality_obj = sympify(Inequality)\n",
        "  Isolve(Inequality_obj)\n",
        "except AttributeError:\n",
        "  print('Please enter an inequality :')\n",
        "\n"
      ],
      "metadata": {
        "colab": {
          "base_uri": "https://localhost:8080/"
        },
        "id": "Wd3cCA6g7sKw",
        "outputId": "8ee1cdc8-5771-475e-e8d3-d975f725cd64"
      },
      "execution_count": null,
      "outputs": [
        {
          "output_type": "stream",
          "name": "stdout",
          "text": [
            "Enter an Inequality: sin(x) - 0.6 > 0\n",
            "Interval.open(0.643501108793284, -0.643501108793284 + pi)\n"
          ]
        }
      ]
    },
    {
      "cell_type": "markdown",
      "source": [
        "Question 5"
      ],
      "metadata": {
        "id": "Tjlzr1xPohBE"
      }
    },
    {
      "cell_type": "code",
      "source": [
        "import numpy as np\n",
        "n1 = 100\n",
        "n11 = np.random.choice(a = [1,2,3,4,5,6], size = n1, p=[1/6,1/6,1/6,1/6,1/6,1/6])\n",
        "Avg1 = (sum(n11)/len(n11))\n",
        "\n",
        "n2 = 1000\n",
        "n22 = np.random.choice(a = [1,2,3,4,5,6], size = n2, p=[1/6,1/6,1/6,1/6,1/6,1/6])\n",
        "Avg2 = (sum(n22)/len(n22))\n",
        "\n",
        "n3 = 10000\n",
        "n33 = np.random.choice(a = [1,2,3,4,5,6], size = n3, p=[1/6,1/6,1/6,1/6,1/6,1/6])\n",
        "Avg3 = (sum(n33)/len(n33))\n",
        "\n",
        "n4 = 100000\n",
        "n44 = np.random.choice(a = [1,2,3,4,5,6], size = n4, p=[1/6,1/6,1/6,1/6,1/6,1/6])\n",
        "Avg4 = (sum(n44)/len(n44))\n",
        "\n",
        "n5 = 500000\n",
        "n55 = np.random.choice(a = [1,2,3,4,5,6], size = n5, p=[1/6,1/6,1/6,1/6,1/6,1/6])\n",
        "Avg5 = (sum(n55)/len(n55))\n",
        "print('Expected value: ', 1*(1/6) + 2*(1/6) + 3*(1/6) + 4*(1/6) + 5*(1/6) + 6*(1/6))\n",
        "print('Trials: ',n1, 'Trials average ', Avg1)\n",
        "print('Trials: ',n2, 'Trials average ', Avg2)\n",
        "print('Trials: ',n3, 'Trials average ', Avg3)\n",
        "print('Trials: ',n4, 'Trials average ', Avg4)\n",
        "print('Trials: ',n5, 'Trials average ', Avg5)\n",
        "\n"
      ],
      "metadata": {
        "colab": {
          "base_uri": "https://localhost:8080/"
        },
        "id": "lgw8ZAC0oi2m",
        "outputId": "5c55acf7-c702-43d9-f2e7-0ceb9480a129"
      },
      "execution_count": null,
      "outputs": [
        {
          "output_type": "stream",
          "name": "stdout",
          "text": [
            "Expected value:  3.5\n",
            "Trials:  100 Trials average  3.68\n",
            "Trials:  1000 Trials average  3.461\n",
            "Trials:  10000 Trials average  3.5041\n",
            "Trials:  100000 Trials average  3.49595\n",
            "Trials:  500000 Trials average  3.498516\n"
          ]
        }
      ]
    }
  ]
}