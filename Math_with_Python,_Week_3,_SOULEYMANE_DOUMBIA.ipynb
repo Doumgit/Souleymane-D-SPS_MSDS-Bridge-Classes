{
  "nbformat": 4,
  "nbformat_minor": 0,
  "metadata": {
    "colab": {
      "name": "Math with Python, Week 3, SOULEYMANE DOUMBIA",
      "provenance": [],
      "collapsed_sections": [],
      "authorship_tag": "ABX9TyPOoSxV7SBLj0fMqwWWy+DP",
      "include_colab_link": true
    },
    "kernelspec": {
      "name": "python3",
      "display_name": "Python 3"
    },
    "language_info": {
      "name": "python"
    }
  },
  "cells": [
    {
      "cell_type": "markdown",
      "metadata": {
        "id": "view-in-github",
        "colab_type": "text"
      },
      "source": [
        "<a href=\"https://colab.research.google.com/github/Doumgit/Souleymane-D-SPS_MSDS-Bridge-Classes/blob/main/Math_with_Python%2C_Week_3%2C_SOULEYMANE_DOUMBIA.ipynb\" target=\"_parent\"><img src=\"https://colab.research.google.com/assets/colab-badge.svg\" alt=\"Open In Colab\"/></a>"
      ]
    },
    {
      "cell_type": "markdown",
      "source": [
        "## **MATH WITH PYTHON WEEK 3: FINAL PROJECT**\n",
        "## SOULEYMANE DOUMBIA"
      ],
      "metadata": {
        "id": "eIr1Chdz66KH"
      }
    },
    {
      "cell_type": "code",
      "execution_count": 291,
      "metadata": {
        "id": "5sEiYGRkdojY"
      },
      "outputs": [],
      "source": [
        "from scipy.stats import norm\n",
        "from scipy.stats import binom as b\n",
        "from scipy.stats import t\n",
        "import matplotlib.pyplot as plt\n",
        "import numpy as np\n",
        "from math import sqrt"
      ]
    },
    {
      "cell_type": "markdown",
      "source": [
        "**QUESTION 1:**   The weights of steers in a herd are distributed normally. The variance is 40,000 and the mean steer weight is 1300 lbs. Find the probability that the weight of a randomly selected steer is greater than 979 lbs. (Round your answer to 4 decimal places)\n",
        "\n"
      ],
      "metadata": {
        "id": "iZdSlOj5rhnN"
      }
    },
    {
      "cell_type": "code",
      "source": [
        "# p (steer > 979) = cdf of norm(1300, sqrt(400000)) from x = 979\n",
        "p1 = round((1 - norm.cdf(979, loc = 1300, scale = sqrt(40000))), 4)\n",
        "print('Prob (steer > 979) is ', p1)"
      ],
      "metadata": {
        "colab": {
          "base_uri": "https://localhost:8080/"
        },
        "id": "GcgDa3cjrchz",
        "outputId": "fd022f71-04ee-4bd2-eb47-a75a8e35a3f3"
      },
      "execution_count": 273,
      "outputs": [
        {
          "output_type": "stream",
          "name": "stdout",
          "text": [
            "Prob (steer > 979) is  0.9458\n"
          ]
        }
      ]
    },
    {
      "cell_type": "markdown",
      "source": [
        "**QUESTION 2:**   SVGA monitors manufactured by TSI Electronics have life spans that have a normal distribution with a variance of 1,960,000 and a mean life span of 11,000 hours. If a SVGA monitor is selected at random, find the probability that the life span of the monitor will be more than 8340 hours. (Round your answer to 4 decimal places)"
      ],
      "metadata": {
        "id": "tYHrwNxAwCTf"
      }
    },
    {
      "cell_type": "code",
      "source": [
        "# p (life sapan > 8340) = 1 - CDF(x < 8340); CDF of Norm(11000, sqrt(1960000))\n",
        "p2 = round((1 - norm.cdf(8340, loc = 11000, scale = sqrt(1960000))), 4)\n",
        "print('Prob (life span of the monitor > 8340) is ', p2)"
      ],
      "metadata": {
        "colab": {
          "base_uri": "https://localhost:8080/"
        },
        "id": "ezV3ZRAfv-8C",
        "outputId": "6d7c93f7-0080-4058-b0c0-24d90ab2766c"
      },
      "execution_count": 274,
      "outputs": [
        {
          "output_type": "stream",
          "name": "stdout",
          "text": [
            "Prob (life span of the monitor > 8340) is  0.9713\n"
          ]
        }
      ]
    },
    {
      "cell_type": "markdown",
      "source": [
        "**QUESTION 3:** Suppose the mean income of firms in the industry for a year is 80 million dollars with a standard deviation of 3 million dollars. If incomes for the industry are distributed normally, what is the probability that a randomly selected firm will earn between 83 and 85 million dollars? (Round your answer to 4 decimal places)"
      ],
      "metadata": {
        "id": "Vpi7QCiNzwkD"
      }
    },
    {
      "cell_type": "code",
      "source": [
        "# p ( 83 millions < income) < 85 millions) = p ( income > 83 million) - p(income > 85 millions)\n",
        "p3 = round((1 - norm.cdf(83000000, loc = 80000000, scale = 3000000)) \n",
        "- (1 - norm.cdf(85000000, loc = 80000000, scale = 3000000)), 4)\n",
        "p3"
      ],
      "metadata": {
        "colab": {
          "base_uri": "https://localhost:8080/"
        },
        "id": "ti0YN9B0z4o-",
        "outputId": "64e72706-d643-43f5-8132-6d58a8bdfa35"
      },
      "execution_count": 275,
      "outputs": [
        {
          "output_type": "execute_result",
          "data": {
            "text/plain": [
              "0.1109"
            ]
          },
          "metadata": {},
          "execution_count": 275
        }
      ]
    },
    {
      "cell_type": "markdown",
      "source": [
        "**QUESTION 4:** Suppose GRE Verbal scores are normally distributed with a mean of 456 and a standard deviation of 123. A university plans to offer tutoring jobs to students whose scores are in the top 14%. What is the minimum score required for the job offer? Round your answer to the nearest whole number, if necessary."
      ],
      "metadata": {
        "id": "NE1ePCMYDvaw"
      }
    },
    {
      "cell_type": "code",
      "source": [
        "# The score top 14% start at where probability is equal to 1-14% = 0.86\n",
        "Z_top14min = (norm.ppf(0.86, 456, 123))\n",
        "Z_top14min = int(round(Z_top14min,0))\n",
        "print('Minimum score required to be in the top 14% is ', Z_top14min)"
      ],
      "metadata": {
        "colab": {
          "base_uri": "https://localhost:8080/"
        },
        "id": "dvvbQKsroj0N",
        "outputId": "0dcc938c-c13e-40bd-9066-761d367a1085"
      },
      "execution_count": 276,
      "outputs": [
        {
          "output_type": "stream",
          "name": "stdout",
          "text": [
            "Minimum score required to be in the top 14% is  589\n"
          ]
        }
      ]
    },
    {
      "cell_type": "markdown",
      "source": [
        "**QUESTION 5:** The lengths of nails produced in a factory are normally distributed with a mean of 6.13 centimeters and a standard deviation of 0.06 centimeters. Find the two lengths that separate the top 7% and the bottom 7%. These lengths could serve as limits used to identify which nails should be rejected. Round your answer to the nearest hundredth, if necessary."
      ],
      "metadata": {
        "id": "mmrTtcvvzlSt"
      }
    },
    {
      "cell_type": "code",
      "source": [
        "B7 = round(norm.ppf(0.07, loc = 6.13, scale = 0.06),2)\n",
        "T7 = round(norm.ppf(0.93, loc = 6.13, scale = 0.06),2)\n",
        "\n",
        "print('Bottom 7%  is ',B7)\n",
        "print('Top 7% starts at ',T7)\n",
        "print('Lenghs of nails to make a decision is between {0} and {1}'.format(B7,T7))"
      ],
      "metadata": {
        "colab": {
          "base_uri": "https://localhost:8080/"
        },
        "id": "W0DH9DnCtbCw",
        "outputId": "d555df0e-adcf-40d0-da65-1e2b1a298a8f"
      },
      "execution_count": 277,
      "outputs": [
        {
          "output_type": "stream",
          "name": "stdout",
          "text": [
            "Bottom 7%  is  6.04\n",
            "Top 7% starts at  6.22\n",
            "Lenghs of nails to make a decision is between 6.04 and 6.22\n"
          ]
        }
      ]
    },
    {
      "cell_type": "markdown",
      "source": [
        "**QUESTION 6:** An English professor assigns letter grades on a test according to the following scheme. \n",
        "1.   A: Top 13% of scores\n",
        "2.   B: Scores below the top 13% and above the bottom 55% \n",
        "3.   C: Scores below the top 45% and above the bottom 20% \n",
        "4.   D: Scores below the top 80% and above the bottom 9% \n",
        "5.   F: Bottom 9% of scores\n",
        "---\n",
        "Scores on the test are normally distributed with a mean of 78.8 and a standard deviation of 9.8. Find the numerical limits for a C grade. Round your answers to the nearest whole number, if necessary.\n",
        "\n",
        "\n",
        "\n",
        "\n",
        "\n"
      ],
      "metadata": {
        "id": "rqW2MWAz3kxj"
      }
    },
    {
      "cell_type": "code",
      "source": [
        "S = [int(round(norm.ppf(0.20, loc = 78.8, scale = 9.8),0)),\n",
        "         int(round(norm.ppf(0.55, loc = 78.8, scale = 9.8),0))]\n",
        "print('Numerical limits for a C grade  is S = ',S)"
      ],
      "metadata": {
        "colab": {
          "base_uri": "https://localhost:8080/"
        },
        "id": "qGx3FK26z7VN",
        "outputId": "2d1e57ec-7ea3-4255-efe7-820e8b1f55ca"
      },
      "execution_count": 278,
      "outputs": [
        {
          "output_type": "stream",
          "name": "stdout",
          "text": [
            "Numerical limits for a C grade  is S =  [71, 80]\n"
          ]
        }
      ]
    },
    {
      "cell_type": "markdown",
      "source": [
        "**QUESTION 7:** Suppose ACT Composite scores are normally distributed with a mean of 21.2 and a standard deviation of 5.4. A university plans to admit students whose scores are in the top 45%. What is the minimum score required for admission? Round your answer to the nearest tenth, if necessary."
      ],
      "metadata": {
        "id": "3GtyHNdA9OyU"
      }
    },
    {
      "cell_type": "code",
      "source": [
        "print('The minimum score required for admission is ',\n",
        "round(norm.ppf(0.55, loc = 21.2, scale = 5.4),1))"
      ],
      "metadata": {
        "colab": {
          "base_uri": "https://localhost:8080/"
        },
        "id": "l5HhJfmo9eYs",
        "outputId": "e2b353b4-55c7-4365-fcbc-39835ffa0b3e"
      },
      "execution_count": 279,
      "outputs": [
        {
          "output_type": "stream",
          "name": "stdout",
          "text": [
            "The minimum score required for admission is  21.9\n"
          ]
        }
      ]
    },
    {
      "cell_type": "markdown",
      "source": [
        "**QUESTION 8:** Consider the probability that less than 11 out of 151 students will not graduate on time. Assume the probability that a given student will not graduate on time is 9%. Approximate the probability using the normal distribution. (Round your answer to 4 decimal places.)\n"
      ],
      "metadata": {
        "id": "jqtW-0hH-OXx"
      }
    },
    {
      "cell_type": "code",
      "source": [
        "# X < 11, n = 151, and p = 0.09\n",
        "# mu = n*p, and sd = sqrt(np(1-p)) by using binomial to approximate normal\n",
        "mu = 151*0.09  # is n*p\n",
        "sd = sqrt((151*0.09)*(1-0.09))\n",
        "\n",
        "# Using the normal distribution to appoximate this probability\n",
        "# with continuity correction: Prob(X < 11) = Prob(X < 10.5) \n",
        "# which will be able to include X = 10 in the calculation, then Prob(X < 11) is:\n",
        "Prob = (round(norm.cdf(10.5,mu,sd),4))\n",
        "print('Probability approximation using normal distribution is:')\n",
        "print('Prob (X < 11) = ',Prob)"
      ],
      "metadata": {
        "colab": {
          "base_uri": "https://localhost:8080/"
        },
        "id": "n2CbQEHRIpxA",
        "outputId": "41c9c23d-0a85-4e56-fb95-fa6d763718c7"
      },
      "execution_count": 280,
      "outputs": [
        {
          "output_type": "stream",
          "name": "stdout",
          "text": [
            "Probability approximation using normal distribution is:\n",
            "Prob (X < 11) =  0.1898\n"
          ]
        }
      ]
    },
    {
      "cell_type": "markdown",
      "source": [
        "**QUESTION 9:** The mean lifetime of a tire is 48 months with a standard deviation of 7. If 147 tires are sampled, what is the probability that the mean of the sample would be greater than 48.83 months? (Round your answer to 4 decimal places)"
      ],
      "metadata": {
        "id": "6ldTLE-SZXGu"
      }
    },
    {
      "cell_type": "code",
      "source": [
        "# mean lifetime = mu = 48 months\n",
        "# sd liftime = sd =  7 monthss\n",
        "# sample size = n = 147\n",
        "mu = 48\n",
        "n = 147\n",
        "sd1 = 7/sqrt(n)\n",
        "Pr = round(1 - norm.cdf(48.83, mu, sd1),4)\n",
        "print('Probability (mean_sample > 48.83) = :', Pr)"
      ],
      "metadata": {
        "colab": {
          "base_uri": "https://localhost:8080/"
        },
        "id": "AYlNal6DrlMf",
        "outputId": "69dee4a9-69d1-437d-8769-c70d4b0e3518"
      },
      "execution_count": 281,
      "outputs": [
        {
          "output_type": "stream",
          "name": "stdout",
          "text": [
            "Probability (mean_sample > 48.83) = : 0.0753\n"
          ]
        }
      ]
    },
    {
      "cell_type": "markdown",
      "source": [
        "**QUESTION 10:**The quality control manager at a computer manufacturing company believes that the mean life of a computer is 91 months, with a standard deviation of 10. If he is correct, what is the probability that the mean of a sample of 68 computers would be greater than 93.54 months? (Round your answer to 4 decimal places)"
      ],
      "metadata": {
        "id": "yByjSnC6Zdgv"
      }
    },
    {
      "cell_type": "code",
      "source": [
        "# mean_life = mu = 91 months\n",
        "# standard deviation = sd =  10 months\n",
        "# sample size = n = 68\n",
        "mu = 91\n",
        "n = 68\n",
        "sd1 = 10/sqrt(n)\n",
        "\n",
        "Prob = round(1 - norm.cdf(93.54, mu, sd1),4)\n",
        "print('Probability (mean_sample > 93.54) = :', Prob)"
      ],
      "metadata": {
        "colab": {
          "base_uri": "https://localhost:8080/"
        },
        "id": "0BniLcUPcK-C",
        "outputId": "16e5e6b2-3c78-46e6-a8ae-1820883ddf73"
      },
      "execution_count": 282,
      "outputs": [
        {
          "output_type": "stream",
          "name": "stdout",
          "text": [
            "Probability (mean_sample > 93.54) = : 0.0181\n"
          ]
        }
      ]
    },
    {
      "cell_type": "markdown",
      "source": [
        "**QUESTION 11:**A director of reservations believes that 7% of the ticketed passengers are no-shows. If the director is right, what is the probability that the proportion of no-shows in a sample of 540 ticketed passengers would differ from the population proportion by less than 3%? (Round your answer to 4 decimal places)"
      ],
      "metadata": {
        "id": "q2p6G-o_cjwI"
      }
    },
    {
      "cell_type": "code",
      "source": [
        "p_success = 0.07\n",
        "s_size = 540\n",
        "\n",
        "# In this case k success should be: (0.07-0.03)*540 < k < (0.07+0.03)*540\n",
        "# which is 54 < k < 21.6 >>> let's find p(21.6 < k < 54) by binomial distribution \n",
        "Prob_noshows = b.cdf(54, s_size, p_success) - b.cdf(26.6, s_size, p_success)\n",
        "Prob_noshows = round(Prob_noshows,4)\n",
        "print('Probability of that proportion is ', Prob_noshows)"
      ],
      "metadata": {
        "colab": {
          "base_uri": "https://localhost:8080/"
        },
        "id": "G9xAzBqjh4-Z",
        "outputId": "6913b046-e865-4f0d-9363-158505aa16df"
      },
      "execution_count": 283,
      "outputs": [
        {
          "output_type": "stream",
          "name": "stdout",
          "text": [
            "Probability of that proportion is  0.9725\n"
          ]
        }
      ]
    },
    {
      "cell_type": "markdown",
      "source": [
        "**QUESTION 12:** A bottle maker believes that 23% of his bottles are defective. If the bottle maker is accurate, what is the probability that the proportion of defective bottles in a sample of 602 bottles would differ from the population proportion by greater than 4%? (Round your answer to 4 decimal places)"
      ],
      "metadata": {
        "id": "2VxLcVxtyhT-"
      }
    },
    {
      "cell_type": "code",
      "source": [
        "p_success = 0.23\n",
        "s_size = 602\n",
        "\n",
        "# Let's do the case where that probability will be less than 4%:\n",
        "# In that situation, k success should be: (0.23-0.04)*602 < k < (0.23+0.04)*602 \n",
        "# which is 0.27*602 < k  >>> let's find p (0.27*602) < k) by binomial distribution \n",
        "Prob_Less_4 = b.cdf((0.23+0.04)*s_size, s_size, p_success) - b.cdf((0.23-0.04)*s_size, s_size, p_success)\n",
        "\n",
        "# Now we can substract from 1 where it is less than 4%; this is it:\n",
        "Prob_Greater_4 = 1 - Prob_Less_4\n",
        "Prob_Greater_4 = round(Prob_Greater_4,4)\n",
        "print('Probability (of the proportion of defective bottles in a sample of 602 bottles')\n",
        "print('which would differ from the population proportion by greater than 4%) is')\n",
        "print('prob = ',Prob_Greater_4)"
      ],
      "metadata": {
        "colab": {
          "base_uri": "https://localhost:8080/"
        },
        "id": "OMRfVSMzxyD9",
        "outputId": "e41614b2-66d5-4bfd-9f1e-7a51c61bd844"
      },
      "execution_count": 284,
      "outputs": [
        {
          "output_type": "stream",
          "name": "stdout",
          "text": [
            "Probability (of the proportion of defective bottles in a sample of 602 bottles\n",
            "which would differ from the population proportion by greater than 4%) is\n",
            "prob =  0.02\n"
          ]
        }
      ]
    },
    {
      "cell_type": "markdown",
      "source": [
        "**QUESTION 13:**A research company desires to know the mean consumption of beef per week among males over age 48. Suppose a sample of size 208 is drawn with 𝑥̅ = 3.9. Assume sigma (standard deviation) = 0.8 . Construct the 80% confidence interval for the mean number of lb. of beef per week among males over 48. (Round your answers to 1 decimal place)"
      ],
      "metadata": {
        "id": "PJH7noHC8z9O"
      }
    },
    {
      "cell_type": "code",
      "source": [
        "mu, sigma = 3.9, 0.8\n",
        "sample_size = 208\n",
        "s_sigma = sigma/sqrt(sample_size)\n",
        "\n",
        "up = round(norm.ppf(.9, mu, s_sigma),1)\n",
        "low = round(norm.ppf(.1, mu, s_sigma),1)\n",
        "print('80% Confidencce interval is :')\n",
        "print('Lower bound: ', low)\n",
        "print('Upper bound: ', up)"
      ],
      "metadata": {
        "colab": {
          "base_uri": "https://localhost:8080/"
        },
        "id": "N-e7R3_c8dXq",
        "outputId": "ee70e28e-383f-4401-cd43-edd1b44f8c7d"
      },
      "execution_count": 285,
      "outputs": [
        {
          "output_type": "stream",
          "name": "stdout",
          "text": [
            "80% Confidencce interval is :\n",
            "Lower bound:  3.8\n",
            "Upper bound:  4.0\n"
          ]
        }
      ]
    },
    {
      "cell_type": "markdown",
      "source": [
        "**QUESTION 14:**An economist wants to estimate the mean per capita income (in thousands of dollars) in a major city in California. Suppose a sample of size 7472 is drawn with 𝑥̅ = 16.6. Assume sigma (standard deviation) = 11 . Construct the 98% confidence interval for the mean per capita income. (Round your answers to 1 decimal place)\n"
      ],
      "metadata": {
        "id": "WhghKzHXA8M4"
      }
    },
    {
      "cell_type": "code",
      "source": [
        "mu1, sigma1 = 16.6, 11\n",
        "sample_size1 = 7472\n",
        "s_sigma1 = sigma1/sqrt(sample_size1)\n",
        "\n",
        "up = round(norm.ppf(0.99, mu1, s_sigma1),1)\n",
        "low = round(norm.ppf(.01, mu1, s_sigma1),1)\n",
        "print('98% Confidencce interval is :')\n",
        "print('Lower bound: ', low)\n",
        "print('Upper bound: ', up)"
      ],
      "metadata": {
        "colab": {
          "base_uri": "https://localhost:8080/"
        },
        "id": "K2p9qhaY_xfh",
        "outputId": "6bbc707f-c894-42c9-c787-1f2ecd689c43"
      },
      "execution_count": 286,
      "outputs": [
        {
          "output_type": "stream",
          "name": "stdout",
          "text": [
            "98% Confidencce interval is :\n",
            "Lower bound:  16.3\n",
            "Upper bound:  16.9\n"
          ]
        }
      ]
    },
    {
      "cell_type": "markdown",
      "source": [
        "**QUESTION 15:**Find the value of t such that 0.05 of the area under the curve is to the left of t. Assume the degrees of freedom equals 26."
      ],
      "metadata": {
        "id": "eapgULHjIymC"
      }
    },
    {
      "cell_type": "code",
      "source": [
        "print('Alpha = ', 0.05)\n",
        "print('degree of freedom = ',26)\n",
        "print('Using student t table, the answer is:')\n",
        "print('Value to the left of t is :')\n",
        "t = -1.705618\n",
        "print('t = ',t)"
      ],
      "metadata": {
        "colab": {
          "base_uri": "https://localhost:8080/"
        },
        "id": "IyS-J8tvJH6z",
        "outputId": "3b19fc2f-0cf2-4215-97b7-d1c942a98960"
      },
      "execution_count": 287,
      "outputs": [
        {
          "output_type": "stream",
          "name": "stdout",
          "text": [
            "Alpha =  0.05\n",
            "degree of freedom =  26\n",
            "Using student t table, the answer is:\n",
            "Value to the left of t is :\n",
            "t =  -1.705618\n"
          ]
        }
      ]
    },
    {
      "cell_type": "markdown",
      "source": [
        "**QUESTION 16 :**The following measurements ( in picocuries per liter ) were recorded by a set of helium gas detectors installed in a laboratory\n",
        "facility: 383.6, 347.1, 371.9, 347.6, 325.8, 337. Using these measurements, construct a 90% confidence interval for the mean level of helium gas present in the facility. Assume the population is normally distributed.\n"
      ],
      "metadata": {
        "id": "_H_GT7jlMWJT"
      }
    },
    {
      "cell_type": "markdown",
      "source": [
        "**Step 1:** Calculate the sample mean for the given sample data. (Round answer to 2 decimal places)"
      ],
      "metadata": {
        "id": "4hvNXsK4NcqC"
      }
    },
    {
      "cell_type": "code",
      "source": [
        "Sample = list([383.6, 347.1, 371.9, 347.6, 325.8, 337])\n",
        "s_mean = np.mean(Sample)\n",
        "print('Sample mean = ', round(s_mean,2))"
      ],
      "metadata": {
        "colab": {
          "base_uri": "https://localhost:8080/"
        },
        "id": "_O-n8XyBMibB",
        "outputId": "a3cecff1-a48b-46c9-f185-50fcd61faa92"
      },
      "execution_count": 288,
      "outputs": [
        {
          "output_type": "stream",
          "name": "stdout",
          "text": [
            "Sample mean =  352.17\n"
          ]
        }
      ]
    },
    {
      "cell_type": "markdown",
      "source": [
        "**Step 2:** Calculate the sample standard deviation for the given sample data. (Round answer to 2 decimal places)"
      ],
      "metadata": {
        "id": "HLXjwlJzOnoW"
      }
    },
    {
      "cell_type": "code",
      "source": [
        "sigma = np.std(Sample, ddof = 1)\n",
        "print('Sample standard deviation = ', round(sigma, 2))"
      ],
      "metadata": {
        "colab": {
          "base_uri": "https://localhost:8080/"
        },
        "id": "bYjzl47BOs1B",
        "outputId": "94482b4b-9e89-4588-b6ea-8ddac8bc524e"
      },
      "execution_count": 289,
      "outputs": [
        {
          "output_type": "stream",
          "name": "stdout",
          "text": [
            "Sample standard deviation =  21.68\n"
          ]
        }
      ]
    },
    {
      "cell_type": "markdown",
      "source": [
        "**Step 3:** Find the critical value that should be used in constructing the confidence interval. (Round answer to 3 decimal places)"
      ],
      "metadata": {
        "id": "AtCIdtgGPpwG"
      }
    },
    {
      "cell_type": "code",
      "source": [
        "Critical_Value = t.ppf(0.95,5)\n",
        "print('Critical value is ',round(Critical_Value,3))"
      ],
      "metadata": {
        "colab": {
          "base_uri": "https://localhost:8080/"
        },
        "id": "VPCCZrAgPxV-",
        "outputId": "5558cf37-6abb-4a2f-8e3f-f54c7268329d"
      },
      "execution_count": 292,
      "outputs": [
        {
          "output_type": "stream",
          "name": "stdout",
          "text": [
            "Critical value is  2.015\n"
          ]
        }
      ]
    },
    {
      "cell_type": "markdown",
      "source": [
        "**Step 4:** Construct the 90% confidence interval. (Round answer to 2 decimal places)"
      ],
      "metadata": {
        "id": "QU5KjIn7QwzO"
      }
    },
    {
      "cell_type": "code",
      "source": [
        "sample_sig = sigma/sqrt(len(Sample))\n",
        "low = s_mean - Critical_Value*sample_sig\n",
        "upper_b = s_mean + Critical_Value*sample_sig\n",
        "print('Lower bound: ', round(low, 2))\n",
        "print('Upper bound: ', round(upper_b,2))"
      ],
      "metadata": {
        "colab": {
          "base_uri": "https://localhost:8080/"
        },
        "id": "Jn8eqF5AQzFW",
        "outputId": "55554c21-63f9-42b1-baf8-221851a96256"
      },
      "execution_count": 293,
      "outputs": [
        {
          "output_type": "stream",
          "name": "stdout",
          "text": [
            "Lower bound:  334.34\n",
            "Upper bound:  370.0\n"
          ]
        }
      ]
    },
    {
      "cell_type": "markdown",
      "source": [
        "**QUESTION 17:** A random sample of 16 fields of spring wheat has a mean yield of 46.4 bushels per acre and standard deviation of 2.45 bushels per acre. Determine the 80% confidence interval for the true mean yield. Assume the population is normally distributed.\n"
      ],
      "metadata": {
        "id": "9unVWEmHS2vl"
      }
    },
    {
      "cell_type": "markdown",
      "source": [
        "**Step 1:** Find the critical value that should be used in constructing the confidence interval. (Round answer to 3 decimal places)"
      ],
      "metadata": {
        "id": "krxtpxMGTDxj"
      }
    },
    {
      "cell_type": "code",
      "source": [
        "Critical_V2 = t.ppf(0.90,10)\n",
        "print('Critical Value = ', round(Critical_V2,3))"
      ],
      "metadata": {
        "colab": {
          "base_uri": "https://localhost:8080/"
        },
        "id": "1KEV_H-mSy1j",
        "outputId": "ec782df6-b453-426f-8a33-efa6eff8b6d6"
      },
      "execution_count": 294,
      "outputs": [
        {
          "output_type": "stream",
          "name": "stdout",
          "text": [
            "Critical Value =  1.372\n"
          ]
        }
      ]
    },
    {
      "cell_type": "markdown",
      "source": [
        "**Step 2:** Construct the 80% confidence interval. (Round answer to 1 decimal place)"
      ],
      "metadata": {
        "id": "uyD_T8JtVBbw"
      }
    },
    {
      "cell_type": "code",
      "source": [
        "mu2 = 46.4\n",
        "sigma2 = 2.45\n",
        "\n",
        "# Sample size is 16 fields\n",
        "s_sigma2 = sigma2/sqrt(16)\n",
        "L = mu - Critical_V2*s_sigma # same as 'norm.ppf(0.1,mu, s_sigma)'\n",
        "U = mu + Critical_V2*s_sigma # same as 'norm.ppf(0.9,mu, s_sigma)'\n",
        "\n",
        "print('The 80% confidence interval: ')\n",
        "print('Lower bound: ', round(L, 1))\n",
        "print('Upper bound: ', round( U,1))"
      ],
      "metadata": {
        "colab": {
          "base_uri": "https://localhost:8080/"
        },
        "id": "CqMESE5VUprk",
        "outputId": "f7cc4447-d9fd-4673-9a71-c137eca27151"
      },
      "execution_count": 295,
      "outputs": [
        {
          "output_type": "stream",
          "name": "stdout",
          "text": [
            "The 80% confidence interval: \n",
            "Lower bound:  3.8\n",
            "Upper bound:  4.0\n"
          ]
        }
      ]
    },
    {
      "cell_type": "markdown",
      "source": [
        "**QUESTION 18:** A toy manufacturer wants to know how many new toys children buy each year. She thinks the mean is 8 toys per year. Assume a previous study found the standard deviation to be 1.9. How large of a sample would be required in order to estimate the mean number of toys bought per child at the 99% confidence level with an error of at most 0.13 toys? (Round your answer up to the next integer)\n",
        "1.   80% confidence => 1.282 z-score\n",
        "2.   85% confidence => 1.44 z-score\n",
        "3.   90% confidence => 1.645 z-score\n",
        "4.   95% confidence => 1.960 z-score\n",
        "5.   99% confidence => 2.576 z-score"
      ],
      "metadata": {
        "id": "XiEgpA0-XCN-"
      }
    },
    {
      "cell_type": "code",
      "source": [
        "# For 99% confidence, Zscore = 2.576\n",
        "z = 2.576\n",
        "s_sigma3 = 1.9\n",
        "E = 0.13       # error\n",
        "\n",
        "n = ((z * s_sigma3)/E)**2\n",
        "print('Sample size must be: n = ', int(round(n,0)))"
      ],
      "metadata": {
        "colab": {
          "base_uri": "https://localhost:8080/"
        },
        "id": "IGvpFhXjWcuc",
        "outputId": "6a4d0744-a56a-4793-f295-5220a0571791"
      },
      "execution_count": 296,
      "outputs": [
        {
          "output_type": "stream",
          "name": "stdout",
          "text": [
            "Sample size must be: n =  1417\n"
          ]
        }
      ]
    },
    {
      "cell_type": "markdown",
      "source": [
        "**QUESTION 19:** A research scientist wants to know how many times per hour a certain strand of bacteria reproduces. He believes that the mean is 12.6. Assume the variance is known to be 3.61. How large of a sample would be required in order to estimate the mean number of reproductions per hour at the 95% confidence level with an error of at most 0.19 reproductions? (Round your answer up to the next integer)"
      ],
      "metadata": {
        "id": "DQAxtfnFgJZL"
      }
    },
    {
      "cell_type": "code",
      "source": [
        "# For 95% confidence, Zscore = 1.960\n",
        "z = 1.960\n",
        "mean = 12.6\n",
        "s_sigma4 = sqrt(3.61)\n",
        "E = 0.19       # error\n",
        "\n",
        "n = ((z * s_sigma4)/E)**2\n",
        "print('Sample size must be: n = ', int(round(n,0)))"
      ],
      "metadata": {
        "colab": {
          "base_uri": "https://localhost:8080/"
        },
        "id": "B2gcMHcTgSJP",
        "outputId": "ebae2fc3-3052-4998-8db9-3adda56b3440"
      },
      "execution_count": 297,
      "outputs": [
        {
          "output_type": "stream",
          "name": "stdout",
          "text": [
            "Sample size must be: n =  384\n"
          ]
        }
      ]
    },
    {
      "cell_type": "markdown",
      "source": [
        "**QUESTION 20:** The state education commission wants to estimate the fraction of tenth grade students that have reading skills at or below the eighth grade level."
      ],
      "metadata": {
        "id": "2KF5tSWhlG4k"
      }
    },
    {
      "cell_type": "markdown",
      "source": [
        "**Step 1:** Suppose a sample of 2089 tenth graders is drawn. Of the students sampled, 1734 read above the eighth grade level. Using the data, estimate the proportion of tenth graders reading at or below the eighth grade level. (Write your answer as a fraction or a decimal number rounded to 3 decimal places)"
      ],
      "metadata": {
        "id": "6jgAvpj0mFVy"
      }
    },
    {
      "cell_type": "code",
      "source": [
        "s = 2089\n",
        "prop = round((s - 1734)/s,3)\n",
        "prop          # This is the probability of reader \n",
        "              # at or below the eighth grader\n",
        "print('Proportion of tenth grader reading at')\n",
        "print('or below the eigthth grade leve is:')\n",
        "print('p = ',prop)\n"
      ],
      "metadata": {
        "colab": {
          "base_uri": "https://localhost:8080/"
        },
        "id": "xK05G3PwlSZb",
        "outputId": "2b6cf15c-b124-4ccc-ac7b-510a12e92040"
      },
      "execution_count": 298,
      "outputs": [
        {
          "output_type": "stream",
          "name": "stdout",
          "text": [
            "Proportion of tenth grader reading at\n",
            "or below the eigthth grade leve is:\n",
            "p =  0.17\n"
          ]
        }
      ]
    },
    {
      "cell_type": "markdown",
      "source": [
        "**Step 2:** Suppose a sample of 2089 tenth graders is drawn. Of the students sampled, 1734 read above the eighth grade level. Using the data, construct the 98% confidence interval for the population proportion of tenth graders reading at or below the eighth grade level. (Round your answers to 3 decimal places)"
      ],
      "metadata": {
        "id": "7k3LMTqPm1ah"
      }
    },
    {
      "cell_type": "code",
      "source": [
        "mu5 = s*prop  # mean of a binomial distribution mean = np\n",
        "sigma5 = sqrt(s*prop*(1-prop)) # Standart deviation of a binomial \n",
        "                               # distribution sqrt(npq)\n",
        "s_sigma5 = sigma5/sqrt(s)\n",
        "tv = t.ppf(.99,1)\n",
        "\n",
        "up =  mu5 + tv*s_sigma5\n",
        "low =  mu5 - tv*s_sigma5\n",
        "\n",
        "print('98% Confidencce interval is :')\n",
        "print('Lower bound: ', round(low,3))\n",
        "print('Upper bound: ', round(up,3))"
      ],
      "metadata": {
        "colab": {
          "base_uri": "https://localhost:8080/"
        },
        "id": "jEAGZVp-6iyr",
        "outputId": "38237ebf-fce0-4553-f992-80d06a4edc91"
      },
      "execution_count": 299,
      "outputs": [
        {
          "output_type": "stream",
          "name": "stdout",
          "text": [
            "98% Confidencce interval is :\n",
            "Lower bound:  343.177\n",
            "Upper bound:  367.083\n"
          ]
        }
      ]
    },
    {
      "cell_type": "markdown",
      "source": [
        "**QUESTION 21:** An environmentalist wants to find out the fraction of oil tankers that have spills each month."
      ],
      "metadata": {
        "id": "s7gNQQO2rxE5"
      }
    },
    {
      "cell_type": "markdown",
      "source": [
        "**Step 1:** Suppose a sample of 474 tankers is drawn. Of these ships, 156 had spills. Using the data, estimate the proportion of\n",
        "oil tankers that had spills. (Write your answer as a fraction or a decimal number rounded to 3 decimal places)"
      ],
      "metadata": {
        "id": "YqT0RUzTr5bd"
      }
    },
    {
      "cell_type": "code",
      "source": [
        "s6 = 474\n",
        "prop6 = round((s6 - 156)/s6,3)\n",
        "prop6          # This is the probability of reader \n",
        "              # at or below the eighth grader\n",
        "print('Proportion of tenth grader reading at')\n",
        "print('or below the eigthth grade leve is:')\n",
        "print('p = ',prop6)"
      ],
      "metadata": {
        "colab": {
          "base_uri": "https://localhost:8080/"
        },
        "id": "Zih-jKqJsBMo",
        "outputId": "6494999c-2e5b-4afb-c961-a4fb8eab5a54"
      },
      "execution_count": 300,
      "outputs": [
        {
          "output_type": "stream",
          "name": "stdout",
          "text": [
            "Proportion of tenth grader reading at\n",
            "or below the eigthth grade leve is:\n",
            "p =  0.671\n"
          ]
        }
      ]
    },
    {
      "cell_type": "markdown",
      "source": [
        "**Step 2:** Suppose a sample of 474 tankers is drawn. Of these ships, 156 had spills. Using the data, construct the 95% confidence interval for the population proportion of oil tankers that have spills each month. (Round your answers to 3 decimal places)"
      ],
      "metadata": {
        "id": "uk78OaWEsB_g"
      }
    },
    {
      "cell_type": "code",
      "source": [
        "mu6 = s6*prop6  # mean of a binomial distribution mean = np\n",
        "sigma6 = sqrt(s6*prop6*(1-prop6)) # Standart deviation of a binomial \n",
        "                               # distribution sqrt(npq)\n",
        "s_sigma6 = sigma6/sqrt(s6)\n",
        "tv6 = t.ppf(0.975,2.5)\n",
        "\n",
        "up6 =  mu6 + tv6*s_sigma6\n",
        "low6 =  mu6 - tv6*s_sigma6\n",
        "\n",
        "print('95% Confidencce interval is :')\n",
        "print('Lower bound: ', round(low6,3))\n",
        "print('Upper bound: ', round(up6,3))"
      ],
      "metadata": {
        "colab": {
          "base_uri": "https://localhost:8080/"
        },
        "id": "fa-evogr4Kx4",
        "outputId": "0617f340-9f7e-4c8e-bbac-c3513ca4991e"
      },
      "execution_count": 301,
      "outputs": [
        {
          "output_type": "stream",
          "name": "stdout",
          "text": [
            "95% Confidencce interval is :\n",
            "Lower bound:  316.374\n",
            "Upper bound:  319.734\n"
          ]
        }
      ]
    }
  ]
}